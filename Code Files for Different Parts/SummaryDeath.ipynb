{
 "cells": [
  {
   "cell_type": "code",
   "execution_count": 2,
   "metadata": {
    "colab": {
     "base_uri": "https://localhost:8080/"
    },
    "id": "gA5WiB6lP2Dc",
    "outputId": "a214af85-8484-4636-b4a5-638a542011f5"
   },
   "outputs": [
    {
     "name": "stdout",
     "output_type": "stream",
     "text": [
      "         date  deaths_new  deaths_bid  deaths_new_dod  deaths_bid_dod  \\\n",
      "0  2020-03-17           2           0               2               0   \n",
      "1  2020-03-18           0           0               0               0   \n",
      "2  2020-03-19           0           0               0               0   \n",
      "3  2020-03-20           1           0               1               0   \n",
      "4  2020-03-21           4           0               4               0   \n",
      "\n",
      "   deaths_unvax  deaths_pvax  deaths_fvax  deaths_boost  deaths_tat  \n",
      "0             2            0            0             0           0  \n",
      "1             0            0            0             0           0  \n",
      "2             0            0            0             0           0  \n",
      "3             1            0            0             0           0  \n",
      "4             4            0            0             0           0  \n",
      "\n",
      "Total Deaths in Malaysia as of 30 Nov 2024:  37351\n"
     ]
    }
   ],
   "source": [
    "import pandas as pd\n",
    "\n",
    "# GitHub raw CSV URL\n",
    "url = 'https://raw.githubusercontent.com/khoocheeshin/HIAGroupProject/refs/heads/main/deaths_malaysia.csv'\n",
    "\n",
    "# Load the CSV file into a DataFrame\n",
    "deaths_malaysia = pd.read_csv(url)\n",
    "\n",
    "# Display the first 5 rows to confirm it's loaded correctly\n",
    "print(deaths_malaysia.head())\n",
    "\n",
    "# Convert the 'date' column to a datetime object\n",
    "deaths_malaysia['date'] = pd.to_datetime(deaths_malaysia['date'])\n",
    "\n",
    "# Calculate the overall total deaths\n",
    "overall_total_deaths = deaths_malaysia['deaths_new'].sum()\n",
    "print(\"\\nTotal Deaths in Malaysia as of 30 Nov 2024: \", overall_total_deaths)"
   ]
  },
  {
   "cell_type": "code",
   "execution_count": 4,
   "metadata": {
    "colab": {
     "base_uri": "https://localhost:8080/"
    },
    "id": "1y3sZJ88TCUE",
    "outputId": "5f61b728-fd72-4c56-83ec-f3be6d859e3b"
   },
   "outputs": [
    {
     "name": "stdout",
     "output_type": "stream",
     "text": [
      "                    Variant Period  Total Deaths  Percentage (%)\n",
      "0    Wuhan (17/3/2020 - 31/8/2020)           127        0.340018\n",
      "1      Beta (1/9/2020 - 31/3/2021)          1145        3.065514\n",
      "2     Delta (1/4/2021 - 31/1/2022)         30706       82.209312\n",
      "3  Omicron (1/2/2022 - 30/11/2024)          5373       14.385157\n"
     ]
    }
   ],
   "source": [
    "# Define the outbreak periods and their date ranges\n",
    "outbreak_periods = {\n",
    "    'Wuhan (17/3/2020 - 31/8/2020)': ('2020-03-17', '2020-08-31'),\n",
    "    'Beta (1/9/2020 - 31/3/2021)': ('2020-09-01', '2021-03-31'),\n",
    "    'Delta (1/4/2021 - 31/1/2022)': ('2021-04-01', '2022-01-31'),\n",
    "    'Omicron (1/2/2022 - 30/11/2024)': ('2022-02-01', '2024-11-30'),\n",
    "}\n",
    "\n",
    "# Calculate the total number of deaths for each period\n",
    "total_deaths = {}\n",
    "for period, (start_date, end_date) in outbreak_periods.items():\n",
    "    mask = (deaths_malaysia['date'] >= start_date) & (deaths_malaysia['date'] <= end_date)\n",
    "    total_deaths[period] = deaths_malaysia.loc[mask, 'deaths_new'].sum()\n",
    "\n",
    "# Create a DataFrame to display the results\n",
    "summary_df = pd.DataFrame(list(total_deaths.items()), columns=['Variant Period', 'Total Deaths'])\n",
    "\n",
    "# Add a percentage column to the summary DataFrame\n",
    "summary_df['Percentage (%)'] = (summary_df['Total Deaths'] / overall_total_deaths) * 100\n",
    "\n",
    "# Display the summary table\n",
    "print(summary_df)"
   ]
  },
  {
   "cell_type": "code",
   "execution_count": null,
   "metadata": {},
   "outputs": [],
   "source": []
  }
 ],
 "metadata": {
  "colab": {
   "provenance": []
  },
  "kernelspec": {
   "display_name": "Python 3 (ipykernel)",
   "language": "python",
   "name": "python3"
  },
  "language_info": {
   "codemirror_mode": {
    "name": "ipython",
    "version": 3
   },
   "file_extension": ".py",
   "mimetype": "text/x-python",
   "name": "python",
   "nbconvert_exporter": "python",
   "pygments_lexer": "ipython3",
   "version": "3.12.5"
  }
 },
 "nbformat": 4,
 "nbformat_minor": 4
}
